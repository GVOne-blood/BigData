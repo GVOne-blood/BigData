{
 "cells": [
  {
   "cell_type": "markdown",
   "id": "29e67c1d",
   "metadata": {},
   "source": [
    "### Kiến trúc Hadoop\n"
   ]
  },
  {
   "cell_type": "markdown",
   "id": "3a41d3bf",
   "metadata": {},
   "source": [
    "#### HDFS (Hadoop Distributed File System)\n",
    "Kiến trúc dựa trên GFS của Google \n",
    "##### Bao gồm :\n",
    "+ Các command \n",
    "+ Hệ thống tệp hệ điều hành gốc\n",
    "##### Ưu điểm : \n",
    "+ Chịu lỗi cao\n",
    "+ Khả dụng cao\n",
    "+ Thích hợp trong xử lý file phân tán\n",
    "+ Có khả năng mở rộng\n",
    "+ Bảo mật\n",
    "+ Tối ưu hóa cho các tệp lớn\n",
    "+ Đọc được thông lượng cao\n",
    "+ Tính nhất quán\n",
    "+ Hiệu suất độ trễ thấp \n",
    "##### Thành phần HDFS : \n",
    "+ Trình nền Master/ Slave : Trình nền là các tiến trình tồn tại lâu dài và chạy khi máy chủ bật\n",
    "+ NameNode : Chịu trách nhiệm giữ siêu dữ liệu namespace.(nơi luu trữ các metadata dữ liệu), bất kỳ request nào muốn tương tác với Hadoop phải thông qua Name Node\n",
    "+ Secondary NameNode : Node dự phòng khi NameNode bị hỏng(Khi hệ thống vận hành chỉ có 1 hệ thống chạy, Seconary NameNode chỉ thay thế khi Name Node bị hỏng)\n",
    "+ Data Node : Các Node để lưu trữ data (lưu trong disk dưới dạng các block nhỏ)\n"
   ]
  },
  {
   "cell_type": "markdown",
   "id": "4b072484",
   "metadata": {},
   "source": [
    "##### Truy cập HDFS bằng command :\n",
    "1 số lệnh cơ bản (như Linux)\n"
   ]
  },
  {
   "cell_type": "markdown",
   "id": "8e07a168",
   "metadata": {},
   "source": [
    "##### Truy cập HDFS bằng GUI (HUE):\n"
   ]
  },
  {
   "cell_type": "markdown",
   "id": "dd2daef6",
   "metadata": {},
   "source": [
    "### YARN (Yet Another ...)\n",
    "- Cho phép ta chạy các khối lượng công việc đa dạng trên cùng 1 Hadoop\n",
    "- Cho phép chia sẻ động bộ nhớ cụm và tài nguyên CPU giữa các ứng dụng \n",
    "#### Bao gồm : \n",
    "##### Trình nền YARN : \n",
    "+ Trình quản lý tài nguyên(Resource Manager) trên mỗi cụm\n",
    "Gồm : - Scheduler(Trình lập lịch)\n",
    "      - ApplicationsManager(Trình quản lý ứng dụng)\n",
    "##### Trình quản lý Node YARN : \n",
    "Quản lý các datanode "
   ]
  },
  {
   "cell_type": "markdown",
   "id": "5d3542be",
   "metadata": {},
   "source": [
    "##### Các lệnh YARN\n"
   ]
  }
 ],
 "metadata": {
  "language_info": {
   "name": "python"
  }
 },
 "nbformat": 4,
 "nbformat_minor": 5
}
